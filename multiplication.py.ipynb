{
 "cells": [
  {
   "cell_type": "code",
   "execution_count": 9,
   "metadata": {},
   "outputs": [
    {
     "ename": "RecursionError",
     "evalue": "maximum recursion depth exceeded while getting the str of an object",
     "output_type": "error",
     "traceback": [
      "\u001b[0;31m---------------------------------------------------------------------------\u001b[0m",
      "\u001b[0;31mRecursionError\u001b[0m                            Traceback (most recent call last)",
      "\u001b[0;32m<ipython-input-9-f63cf93c596b>\u001b[0m in \u001b[0;36m<module>\u001b[0;34m()\u001b[0m\n\u001b[1;32m     23\u001b[0m \u001b[0mb\u001b[0m\u001b[0;34m=\u001b[0m\u001b[0;36m12345678901357986429\u001b[0m\u001b[0;34m\u001b[0m\u001b[0m\n\u001b[1;32m     24\u001b[0m \u001b[0;34m\u001b[0m\u001b[0m\n\u001b[0;32m---> 25\u001b[0;31m \u001b[0mprint\u001b[0m\u001b[0;34m(\u001b[0m\u001b[0mkaratsuba\u001b[0m\u001b[0;34m(\u001b[0m\u001b[0ma\u001b[0m\u001b[0;34m,\u001b[0m\u001b[0mb\u001b[0m\u001b[0;34m)\u001b[0m\u001b[0;34m)\u001b[0m\u001b[0;34m\u001b[0m\u001b[0m\n\u001b[0m",
      "\u001b[0;32m<ipython-input-9-f63cf93c596b>\u001b[0m in \u001b[0;36mkaratsuba\u001b[0;34m(x, y)\u001b[0m\n\u001b[1;32m     12\u001b[0m         \u001b[0md\u001b[0m \u001b[0;34m=\u001b[0m \u001b[0my\u001b[0m \u001b[0;34m%\u001b[0m \u001b[0;36m10\u001b[0m\u001b[0;34m**\u001b[0m\u001b[0;34m(\u001b[0m\u001b[0mnby2\u001b[0m\u001b[0;34m)\u001b[0m\u001b[0;34m\u001b[0m\u001b[0m\n\u001b[1;32m     13\u001b[0m \u001b[0;34m\u001b[0m\u001b[0m\n\u001b[0;32m---> 14\u001b[0;31m         \u001b[0mac\u001b[0m \u001b[0;34m=\u001b[0m \u001b[0mkaratsuba\u001b[0m\u001b[0;34m(\u001b[0m\u001b[0ma\u001b[0m\u001b[0;34m,\u001b[0m\u001b[0mc\u001b[0m\u001b[0;34m)\u001b[0m\u001b[0;34m\u001b[0m\u001b[0m\n\u001b[0m\u001b[1;32m     15\u001b[0m         \u001b[0mbd\u001b[0m \u001b[0;34m=\u001b[0m \u001b[0mkaratsuba\u001b[0m\u001b[0;34m(\u001b[0m\u001b[0mb\u001b[0m\u001b[0;34m,\u001b[0m\u001b[0md\u001b[0m\u001b[0;34m)\u001b[0m\u001b[0;34m\u001b[0m\u001b[0m\n\u001b[1;32m     16\u001b[0m         \u001b[0mad_plus_bc\u001b[0m \u001b[0;34m=\u001b[0m \u001b[0mkaratsuba\u001b[0m\u001b[0;34m(\u001b[0m\u001b[0ma\u001b[0m\u001b[0;34m+\u001b[0m\u001b[0mb\u001b[0m\u001b[0;34m,\u001b[0m\u001b[0mc\u001b[0m\u001b[0;34m+\u001b[0m\u001b[0md\u001b[0m\u001b[0;34m)\u001b[0m \u001b[0;34m-\u001b[0m \u001b[0mac\u001b[0m \u001b[0;34m-\u001b[0m \u001b[0mbd\u001b[0m\u001b[0;34m\u001b[0m\u001b[0m\n",
      "... last 1 frames repeated, from the frame below ...\n",
      "\u001b[0;32m<ipython-input-9-f63cf93c596b>\u001b[0m in \u001b[0;36mkaratsuba\u001b[0;34m(x, y)\u001b[0m\n\u001b[1;32m     12\u001b[0m         \u001b[0md\u001b[0m \u001b[0;34m=\u001b[0m \u001b[0my\u001b[0m \u001b[0;34m%\u001b[0m \u001b[0;36m10\u001b[0m\u001b[0;34m**\u001b[0m\u001b[0;34m(\u001b[0m\u001b[0mnby2\u001b[0m\u001b[0;34m)\u001b[0m\u001b[0;34m\u001b[0m\u001b[0m\n\u001b[1;32m     13\u001b[0m \u001b[0;34m\u001b[0m\u001b[0m\n\u001b[0;32m---> 14\u001b[0;31m         \u001b[0mac\u001b[0m \u001b[0;34m=\u001b[0m \u001b[0mkaratsuba\u001b[0m\u001b[0;34m(\u001b[0m\u001b[0ma\u001b[0m\u001b[0;34m,\u001b[0m\u001b[0mc\u001b[0m\u001b[0;34m)\u001b[0m\u001b[0;34m\u001b[0m\u001b[0m\n\u001b[0m\u001b[1;32m     15\u001b[0m         \u001b[0mbd\u001b[0m \u001b[0;34m=\u001b[0m \u001b[0mkaratsuba\u001b[0m\u001b[0;34m(\u001b[0m\u001b[0mb\u001b[0m\u001b[0;34m,\u001b[0m\u001b[0md\u001b[0m\u001b[0;34m)\u001b[0m\u001b[0;34m\u001b[0m\u001b[0m\n\u001b[1;32m     16\u001b[0m         \u001b[0mad_plus_bc\u001b[0m \u001b[0;34m=\u001b[0m \u001b[0mkaratsuba\u001b[0m\u001b[0;34m(\u001b[0m\u001b[0ma\u001b[0m\u001b[0;34m+\u001b[0m\u001b[0mb\u001b[0m\u001b[0;34m,\u001b[0m\u001b[0mc\u001b[0m\u001b[0;34m+\u001b[0m\u001b[0md\u001b[0m\u001b[0;34m)\u001b[0m \u001b[0;34m-\u001b[0m \u001b[0mac\u001b[0m \u001b[0;34m-\u001b[0m \u001b[0mbd\u001b[0m\u001b[0;34m\u001b[0m\u001b[0m\n",
      "\u001b[0;31mRecursionError\u001b[0m: maximum recursion depth exceeded while getting the str of an object"
     ]
    }
   ],
   "source": [
    "#I found this algorithm online, since I missed the in class lecture.\n",
    "def karatsuba(x,y):\n",
    "    if len(str(x)) == 1 or len(str(y)) == 1:\n",
    "        return x*y\n",
    "    else:\n",
    "        n = max(len(str(x)),len(str(y)))\n",
    "        nby2 = n / 2\n",
    "\n",
    "        a = x / 10**(nby2)\n",
    "        b = x % 10**(nby2)\n",
    "        c = y / 10**(nby2)\n",
    "        d = y % 10**(nby2)\n",
    "\n",
    "        ac = karatsuba(a,c)\n",
    "        bd = karatsuba(b,d)\n",
    "        ad_plus_bc = karatsuba(a+b,c+d) - ac - bd\n",
    "        \n",
    "        # this little trick, writing n as 2*nby2 takes care of both even and odd n\n",
    "        prod = ac * 10**(2*nby2) + (ad_plus_bc * 10**nby2) + bd\n",
    "\n",
    "        return prod\n",
    "a=8765432128482091283\n",
    "b=12345678901357986429\n",
    "\n",
    "print(karatsuba(a,b))"
   ]
  },
  {
   "cell_type": "code",
   "execution_count": null,
   "metadata": {},
   "outputs": [],
   "source": [
    "#I found a good algorithm for Strassen's Matrix Multiplication and used tht\n",
    "#I missed the in class lecture, so I used online resources.\n",
    "def strassen(A, B):\n",
    "    assert type(A) == list and type(B) == list\n",
    "    assert len(A) == len(A[0]) == len(B) == len(B[0])\n",
    "\n",
    "    # Make the matrices bigger so that you can apply the strassen\n",
    "    # algorithm recursively without having to deal with odd\n",
    "    # matrix sizes\n",
    "    nextPowerOfTwo = lambda n: 2**int(ceil(log(n,2)))\n",
    "    n = len(A)\n",
    "    m = nextPowerOfTwo(n)\n",
    "    APrep = [[0 for i in xrange(m)] for j in xrange(m)]\n",
    "    BPrep = [[0 for i in xrange(m)] for j in xrange(m)]\n",
    "    for i in range(n):\n",
    "        for j in range(n):\n",
    "            APrep[i][j] = A[i][j]\n",
    "            BPrep[i][j] = B[i][j]\n",
    "    CPrep = strassenR(APrep, BPrep)\n",
    "    C = [[0 for i in range(n)] for j in xrange(n)]\n",
    "    for i in range(n):\n",
    "        for j in range(n):\n",
    "            C[i][j] = CPrep[i][j]\n",
    "    return C\n",
    "\n",
    "if __name__ == \"__main__\":\n",
    "    parser = OptionParser()\n",
    "    parser.add_option(\"-i\",\n",
    "                      dest=\"filename\",\n",
    "                      default=\"2000.in\",\n",
    "                      help=\"input file with two matrices\",\n",
    "                      metavar=\"FILE\")\n",
    "    parser.add_option(\"-l\",\n",
    "                      dest=\"LEAF_SIZE\",\n",
    "                      default=\"8\",\n",
    "                      help=\"when do you start using ikj\",\n",
    "                      metavar=\"LEAF_SIZE\")\n",
    "    (options, args) = parser.parse_args()\n",
    "\n",
    "    LEAF_SIZE = options.LEAF_SIZE\n",
    "    A, B = read(options.filename)\n",
    "\n",
    "    C = strassen(A, B)\n",
    "    print_matrix(C)"
   ]
  },
  {
   "cell_type": "code",
   "execution_count": null,
   "metadata": {},
   "outputs": [],
   "source": []
  }
 ],
 "metadata": {
  "kernelspec": {
   "display_name": "Python 3",
   "language": "python",
   "name": "python3"
  },
  "language_info": {
   "codemirror_mode": {
    "name": "ipython",
    "version": 3
   },
   "file_extension": ".py",
   "mimetype": "text/x-python",
   "name": "python",
   "nbconvert_exporter": "python",
   "pygments_lexer": "ipython3",
   "version": "3.5.2"
  }
 },
 "nbformat": 4,
 "nbformat_minor": 2
}
